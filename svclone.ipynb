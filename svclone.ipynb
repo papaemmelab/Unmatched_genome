{
 "cells": [
  {
   "cell_type": "code",
   "execution_count": 2,
   "metadata": {},
   "outputs": [
    {
     "name": "stdout",
     "output_type": "stream",
     "text": [
      "python SVclone.py annotate -i /work/isabl/home/zhouy1/tmp/svclone_test/IID_H158186_T01_01_WG01.svin -b /work/isabl/data/analyses/08/79/230879/IID_H158186_T01_01_WG01.bam -s IID_H158186_T01_01_WG01 -o /work/isabl/home/zhouy1/tmp/svclone_test --sv_format simple -cfg /work/isabl/home/zhouy1/tmp/svclone_test/svclone_config.ini\n",
      "Unable to annotate: 6\n",
      "python SVclone.py count -i /work/isabl/home/zhouy1/tmp/svclone_test/IID_H158186_T01_01_WG01_svin.txt -b /work/isabl/data/analyses/08/79/230879/IID_H158186_T01_01_WG01.bam -s IID_H158186_T01_01_WG01 -o /work/isabl/home/zhouy1/tmp/svclone_test -cfg /work/isabl/home/zhouy1/tmp/svclone_test/svclone_config.ini\n"
     ]
    }
   ],
   "source": [
    "import pysam\n",
    "import pandas as pd\n",
    "import isabl_cli as ii\n",
    "from pathlib import Path\n",
    "\n",
    "outdir = \"/work/isabl/home/zhouy1/tmp/svclone_test\"\n",
    "sample = \"IID_H158186_T01_01_WG01\"\n",
    "experiment = ii.Experiment(sample)\n",
    "bam = experiment.bam_files.GRCh37.url\n",
    "svin = Path(outdir).joinpath(f\"{sample}.svin\")\n",
    "#SVclone simple format\n",
    "#chr1\tpos1\tchr2\tpos2\n",
    "annotsvs = [x for x in experiment.results if x.application.name == \"ANNOT_SVS\"][0]\n",
    "svs = []\n",
    "with pysam.VariantFile(annotsvs.results.pass_vcf, mode=\"r\") as vcf:\n",
    "    for rec in vcf:\n",
    "        svs.append([rec.chrom, rec.pos, rec.info[\"CHR2\"], rec.stop, rec.info[\"SVTYPE\"], rec.info[\"STRANDS\"]])\n",
    "svs = pd.DataFrame(svs, columns=[\"chr1\",\"pos1\",\"chr2\",\"pos2\",\"svtype\",\"strand\"])\n",
    "svs.to_csv(svin, sep=\"\\t\", index=False)\n",
    "print(f\"python SVclone.py annotate -i {svin} -b {bam} -s {sample} -o {outdir} --sv_format simple -cfg {outdir}/svclone_config.ini\")\n",
    "pa_path = Path(outdir).joinpath(f\"{sample}_svin.txt\")\n",
    "postannotate = pd.read_csv(pa_path,sep=\"\\t\")\n",
    "postannotate.merge(svs,left_on=[\"original_pos1\",\"original_pos2\"],right_on=[\"pos1\",\"pos2\"])\n",
    "print(\"Unable to annotate:\", postannotate[postannotate[\"dir1\"]==\"?\"].shape[0])\n",
    "print(f\"python SVclone.py count -i {Path(outdir).joinpath(f'{sample}_svin.txt')} -b {bam} -s {sample} -o {outdir} -cfg {outdir}/svclone_config.ini\")"
   ]
  },
  {
   "cell_type": "code",
   "execution_count": null,
   "metadata": {},
   "outputs": [],
   "source": []
  }
 ],
 "metadata": {
  "kernelspec": {
   "display_name": "Python 3",
   "language": "python",
   "name": "python3"
  },
  "language_info": {
   "codemirror_mode": {
    "name": "ipython",
    "version": 3
   },
   "file_extension": ".py",
   "mimetype": "text/x-python",
   "name": "python",
   "nbconvert_exporter": "python",
   "pygments_lexer": "ipython3",
   "version": "3.6.5"
  }
 },
 "nbformat": 4,
 "nbformat_minor": 2
}
