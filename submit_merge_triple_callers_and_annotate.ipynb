{
 "cells": [
  {
   "cell_type": "code",
   "execution_count": 6,
   "metadata": {},
   "outputs": [],
   "source": [
    "import os\n",
    "import subprocess\n",
    "\n",
    "with open(\"/work/isabl/home/zhouy1/unmatechedSVpipeline/test/unmatched_benchmark/svaba/samples.tsv\",'r') as f:\n",
    "    samples = f.readlines()\n",
    "    samples = [i.strip('\\n') for i in samples]\n",
    "\n",
    "outdir = \"/work/isabl/home/zhouy1/unmatechedSVpipeline/test/unmatched_benchmark/sv_triplecaller_merge\"\n",
    "for sample in samples:\n",
    "    cmd = [\n",
    "        \"bsub\",\n",
    "        \"-e\", os.path.join(outdir, f\"{sample}.err\"),\n",
    "        \"-o\", os.path.join(outdir, f\"{sample}.out\"),\n",
    "        \"/juno/work/isabl/opt/python/.virtualenvs/users/zhouy1/unmatchedSV/bin/python\", \"/work/isabl/home/zhouy1/notebook/Unmatched_genome/merge_triple_callers_and_annotate.py\",\n",
    "        sample\n",
    "    ]\n",
    "    subprocess.check_output(cmd)"
   ]
  },
  {
   "cell_type": "code",
   "execution_count": null,
   "metadata": {},
   "outputs": [],
   "source": []
  }
 ],
 "metadata": {
  "kernelspec": {
   "display_name": "Python 3",
   "language": "python",
   "name": "python3"
  },
  "language_info": {
   "codemirror_mode": {
    "name": "ipython",
    "version": 3
   },
   "file_extension": ".py",
   "mimetype": "text/x-python",
   "name": "python",
   "nbconvert_exporter": "python",
   "pygments_lexer": "ipython3",
   "version": "3.6.5"
  }
 },
 "nbformat": 4,
 "nbformat_minor": 2
}
